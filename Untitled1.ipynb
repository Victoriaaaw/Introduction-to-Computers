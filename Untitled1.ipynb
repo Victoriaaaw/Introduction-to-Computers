{
  "nbformat": 4,
  "nbformat_minor": 0,
  "metadata": {
    "colab": {
      "provenance": [],
      "authorship_tag": "ABX9TyMjwr+yfKCoXIHHYedUiRPM",
      "include_colab_link": true
    },
    "kernelspec": {
      "name": "python3",
      "display_name": "Python 3"
    },
    "language_info": {
      "name": "python"
    }
  },
  "cells": [
    {
      "cell_type": "markdown",
      "metadata": {
        "id": "view-in-github",
        "colab_type": "text"
      },
      "source": [
        "<a href=\"https://colab.research.google.com/github/Victoriaaaw/Introduction-to-Computers/blob/main/Untitled1.ipynb\" target=\"_parent\"><img src=\"https://colab.research.google.com/assets/colab-badge.svg\" alt=\"Open In Colab\"/></a>"
      ]
    },
    {
      "cell_type": "code",
      "execution_count": 1,
      "metadata": {
        "colab": {
          "base_uri": "https://localhost:8080/"
        },
        "id": "npUedgDKZzw2",
        "outputId": "5c264d8d-84b1-44e4-b2c6-77d6633402de"
      },
      "outputs": [
        {
          "output_type": "stream",
          "name": "stdout",
          "text": [
            "score: 50\n",
            "Grade is: F\n"
          ]
        }
      ],
      "source": [
        "score = int(input(\"score: \"))\n",
        "if score >= 90:\n",
        "    print('Grade is: A')\n",
        "elif score >= 80:\n",
        "    print('Grade is: B')\n",
        "elif score >= 70:\n",
        "    print('Grade is: C')\n",
        "elif score >= 60:\n",
        "    print('Grade is: D')\n",
        "else:\n",
        "    print('Grade is: F')"
      ]
    },
    {
      "cell_type": "code",
      "source": [
        "rain = input(\"今天會下雨嗎？：\")\n",
        "if rain == Y or rain == y:\n",
        "    print(\"出門記得帶傘！\")\n",
        "elif rain == N or rain == n:\n",
        "    print(\"不用帶傘！\")\n",
        "else:\n",
        "    print(month,\"月是秋天！\")"
      ],
      "metadata": {
        "id": "eb-vs2Fhgoin"
      },
      "execution_count": null,
      "outputs": []
    },
    {
      "cell_type": "code",
      "source": [
        "C = float(input(\"體溫: \"))\n",
        "if C >= 37.5:\n",
        "    print('體溫過高！')\n",
        "elif C >= 37:\n",
        "    print('體溫略高！')\n",
        "elif C >= 34:\n",
        "    print('體溫正常！')\n",
        "elif C < 34:\n",
        "    print('體溫異常，請重新測量！')"
      ],
      "metadata": {
        "colab": {
          "base_uri": "https://localhost:8080/"
        },
        "id": "vxE_gKdwaj8C",
        "outputId": "68a54968-ddde-40a2-a6b1-7eb9a651e620"
      },
      "execution_count": 9,
      "outputs": [
        {
          "output_type": "stream",
          "name": "stdout",
          "text": [
            "體溫: 37.5\n",
            "體溫過高！\n"
          ]
        }
      ]
    },
    {
      "cell_type": "code",
      "source": [
        "score = int(input(\"請輸入成績: \"))\n",
        "if score >= 90:\n",
        "    print('A')\n",
        "elif score >= 80:\n",
        "    print('B')\n",
        "elif score >= 70:\n",
        "    print('C')\n",
        "elif score >= 60:\n",
        "    print('D')\n",
        "else:\n",
        "    print('E')"
      ],
      "metadata": {
        "colab": {
          "base_uri": "https://localhost:8080/"
        },
        "id": "dGk3Nu3Ic0hm",
        "outputId": "8c2ffbeb-045f-4257-e4de-595ed4c9c7c4"
      },
      "execution_count": 12,
      "outputs": [
        {
          "output_type": "stream",
          "name": "stdout",
          "text": [
            "請輸入成績: 80\n",
            "B\n"
          ]
        }
      ]
    },
    {
      "cell_type": "code",
      "source": [
        "month = int(input(\"请输入月份：\"))\n",
        "if month == 12 or month == 1 or month == 2:\n",
        "    print(month,\"月是冬天！\")\n",
        "elif month >= 3 and month <= 5:\n",
        "    print(month,\"月是春天！\")\n",
        "elif month >= 6 and month <= 8:\n",
        "    print(month,\"月是夏天！\")\n",
        "else:\n",
        "    print(month,\"月是秋天！\")"
      ],
      "metadata": {
        "colab": {
          "base_uri": "https://localhost:8080/"
        },
        "id": "BgCrQj5OddTq",
        "outputId": "7add7653-c88b-450d-95bf-12d8545512c6"
      },
      "execution_count": 14,
      "outputs": [
        {
          "output_type": "stream",
          "name": "stdout",
          "text": [
            "请输入月份：10\n",
            "10 月是秋天！\n"
          ]
        }
      ]
    },
    {
      "cell_type": "code",
      "source": [
        "s = int(input(\"請輸入今年收入净額: \"))\n",
        "if s >= 2000000:\n",
        "    tax = s*0.3\n",
        "elif s >= 1000000:\n",
        "    tax = s*0.21\n",
        "elif s >= 600000:\n",
        "    tax = s*0.13\n",
        "elif s >= 300000:\n",
        "    tax = s*0.06\n",
        "else:\n",
        "    tax = 0\n",
        "print(\"付稅金額：\",tax,\"元\")"
      ],
      "metadata": {
        "colab": {
          "base_uri": "https://localhost:8080/"
        },
        "id": "4wLwdAdVedAD",
        "outputId": "365a3fc9-35fb-49d9-dadd-b8722b5679f3"
      },
      "execution_count": 18,
      "outputs": [
        {
          "output_type": "stream",
          "name": "stdout",
          "text": [
            "請輸入今年收入净額: 2000000\n",
            "付稅金額： 600000.0 元\n"
          ]
        }
      ]
    }
  ]
}