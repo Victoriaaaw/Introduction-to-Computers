{
  "nbformat": 4,
  "nbformat_minor": 0,
  "metadata": {
    "colab": {
      "provenance": [],
      "authorship_tag": "ABX9TyOAd7RNfHZOZzATdw1k59W2",
      "include_colab_link": true
    },
    "kernelspec": {
      "name": "python3",
      "display_name": "Python 3"
    },
    "language_info": {
      "name": "python"
    }
  },
  "cells": [
    {
      "cell_type": "markdown",
      "metadata": {
        "id": "view-in-github",
        "colab_type": "text"
      },
      "source": [
        "<a href=\"https://colab.research.google.com/github/Victoriaaaw/Introduction-to-Computers/blob/main/%E6%9C%9F%E4%B8%AD%E8%80%83%E9%A1%8C.ipynb\" target=\"_parent\"><img src=\"https://colab.research.google.com/assets/colab-badge.svg\" alt=\"Open In Colab\"/></a>"
      ]
    },
    {
      "cell_type": "code",
      "execution_count": 2,
      "metadata": {
        "colab": {
          "base_uri": "https://localhost:8080/"
        },
        "id": "Ajfn57mitplv",
        "outputId": "da1e3152-b337-4ff1-9d09-32ade4174e9a"
      },
      "outputs": [
        {
          "output_type": "stream",
          "name": "stdout",
          "text": [
            "peiyu\n",
            "peiyu\n"
          ]
        }
      ],
      "source": [
        "#第一題\n",
        "a = input()\n",
        "print(a)"
      ]
    },
    {
      "cell_type": "code",
      "source": [
        "#第二題\n",
        "h,w = input().split()\n",
        "int_h = int(h)\n",
        "int_w = int(w)\n",
        "h_a = int(h)/100\n",
        "bmi = int_w/h_a**2\n",
        "print(\"%.2f\" % bmi)\n"
      ],
      "metadata": {
        "colab": {
          "base_uri": "https://localhost:8080/"
        },
        "id": "vyk3yRQ5uPXQ",
        "outputId": "8a745399-7d00-41a0-8e27-99bc88e2751c"
      },
      "execution_count": 11,
      "outputs": [
        {
          "output_type": "stream",
          "name": "stdout",
          "text": [
            "180 70\n",
            "21.60\n"
          ]
        }
      ]
    },
    {
      "cell_type": "code",
      "source": [
        "#第三題\n",
        "a = int(input())\n",
        "total = 0\n",
        "for i in range(10,a+1):\n",
        "  total += i\n",
        "print(total)"
      ],
      "metadata": {
        "colab": {
          "base_uri": "https://localhost:8080/"
        },
        "id": "l4d1vIYdx8Rn",
        "outputId": "f697b6c9-a4ec-4d4d-a8fe-b890c2eb2e8c"
      },
      "execution_count": 13,
      "outputs": [
        {
          "output_type": "stream",
          "name": "stdout",
          "text": [
            "20\n",
            "165\n"
          ]
        }
      ]
    },
    {
      "cell_type": "code",
      "source": [
        "#第四題\n",
        "a=input()\n",
        "print(len())"
      ],
      "metadata": {
        "colab": {
          "base_uri": "https://localhost:8080/"
        },
        "id": "rbRqCdnEzTOX",
        "outputId": "19db6530-a408-42ee-e655-6ac2309ee068"
      },
      "execution_count": 22,
      "outputs": [
        {
          "output_type": "stream",
          "name": "stdout",
          "text": [
            "hello panda hi hi\n",
            "17\n"
          ]
        }
      ]
    }
  ]
}