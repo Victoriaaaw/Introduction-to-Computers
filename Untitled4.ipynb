{
  "nbformat": 4,
  "nbformat_minor": 0,
  "metadata": {
    "colab": {
      "provenance": [],
      "authorship_tag": "ABX9TyM5uKdJqq6qJc7T+pZKQqF3",
      "include_colab_link": true
    },
    "kernelspec": {
      "name": "python3",
      "display_name": "Python 3"
    },
    "language_info": {
      "name": "python"
    }
  },
  "cells": [
    {
      "cell_type": "markdown",
      "metadata": {
        "id": "view-in-github",
        "colab_type": "text"
      },
      "source": [
        "<a href=\"https://colab.research.google.com/github/Victoriaaaw/Introduction-to-Computers/blob/main/Untitled4.ipynb\" target=\"_parent\"><img src=\"https://colab.research.google.com/assets/colab-badge.svg\" alt=\"Open In Colab\"/></a>"
      ]
    },
    {
      "cell_type": "code",
      "source": [
        "list1 = range(9)\n",
        "print(list(list1))\n",
        "list2 = range(1,10)\n",
        "print(list(list2))\n",
        "list3 = range(1,10,2)\n",
        "print(list(list3))\n",
        "list4 = range(10,1,-2)\n",
        "print(list(list4))\n"
      ],
      "metadata": {
        "colab": {
          "base_uri": "https://localhost:8080/"
        },
        "id": "OOHS1Y5Nvy9P",
        "outputId": "a682950b-56f4-4032-a702-f6cb3e6ce7fe"
      },
      "execution_count": 7,
      "outputs": [
        {
          "output_type": "stream",
          "name": "stdout",
          "text": [
            "[0, 1, 2, 3, 4, 5, 6, 7, 8]\n",
            "[1, 2, 3, 4, 5, 6, 7, 8, 9]\n",
            "[1, 3, 5, 7, 9]\n",
            "[10, 8, 6, 4, 2]\n"
          ]
        }
      ]
    },
    {
      "cell_type": "code",
      "source": [
        "n = int(input(\"請輸入一個正整數：\"))\n",
        "number_list = list(range(1, n+1))\n",
        "for number in number_list:\n",
        "    print(number, end=' ')"
      ],
      "metadata": {
        "colab": {
          "base_uri": "https://localhost:8080/"
        },
        "id": "7LIGw_DcyG6f",
        "outputId": "b3edcd6d-38c7-4886-b1ab-423dd5448427"
      },
      "execution_count": 11,
      "outputs": [
        {
          "output_type": "stream",
          "name": "stdout",
          "text": [
            "請輸入一個正整數：10\n",
            "1 2 3 4 5 6 7 8 9 10 "
          ]
        }
      ]
    },
    {
      "cell_type": "code",
      "source": [
        "n = int(input(\"請輸入一個正整數：\"))\n",
        "number_list = list(range(1, n+1))\n",
        "total = sum(number_list)\n",
        "print(\"1到\",n,\"的總和為：\", total)"
      ],
      "metadata": {
        "colab": {
          "base_uri": "https://localhost:8080/"
        },
        "id": "KNLLjG476L1-",
        "outputId": "3420a4d8-3766-4de1-cbe0-190d61aa0718"
      },
      "execution_count": 14,
      "outputs": [
        {
          "output_type": "stream",
          "name": "stdout",
          "text": [
            "請輸入一個正整數：10\n",
            "1到 10 的總和為： 55\n"
          ]
        }
      ]
    },
    {
      "cell_type": "code",
      "source": [
        "num = int(input(\"請輸入一個正整數：\"))\n",
        "\n",
        "for i in range(1, num + 1):\n",
        "    total = sum(range(1, i + 1))\n",
        "    print(\"1到{}的整數和爲：{}\".format(i, total))\n"
      ],
      "metadata": {
        "colab": {
          "base_uri": "https://localhost:8080/"
        },
        "id": "O-myrtUGLq4m",
        "outputId": "76173320-7896-409c-c4f9-b7a6383b9c97"
      },
      "execution_count": 15,
      "outputs": [
        {
          "output_type": "stream",
          "name": "stdout",
          "text": [
            "請輸入一個正整數：10\n",
            "1到1的整數和爲：1\n",
            "1到2的整數和爲：3\n",
            "1到3的整數和爲：6\n",
            "1到4的整數和爲：10\n",
            "1到5的整數和爲：15\n",
            "1到6的整數和爲：21\n",
            "1到7的整數和爲：28\n",
            "1到8的整數和爲：36\n",
            "1到9的整數和爲：45\n",
            "1到10的整數和爲：55\n"
          ]
        }
      ]
    }
  ]
}